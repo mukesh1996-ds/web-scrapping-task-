{
 "cells": [
  {
   "cell_type": "code",
   "execution_count": 10,
   "metadata": {},
   "outputs": [
    {
     "name": "stderr",
     "output_type": "stream",
     "text": [
      "C:\\Users\\maidi\\AppData\\Local\\Temp\\ipykernel_4448\\3105725215.py:19: DeprecationWarning: executable_path has been deprecated, please pass in a Service object\n",
      "  driver = webdriver.Chrome(executable_path = driver_path)\n"
     ]
    },
    {
     "name": "stdout",
     "output_type": "stream",
     "text": [
      "Data Saved Successfully in excel file Silver_Funds.xlsx\n"
     ]
    }
   ],
   "source": [
    "#-------------------------------importing required libraries-----------------------------------------------\n",
    "\n",
    "# For automation and web scraping\n",
    "import selenium  \n",
    "from selenium import webdriver\n",
    "# By will serve as a substitute for find_element_by_ method\n",
    "from selenium.webdriver.common.by import By\n",
    "# WebDriverWait and expected_conditions will delay the code execution until the required tag,link is loaded in the browser (useful for slow webpage)\n",
    "from selenium.webdriver.support.ui import WebDriverWait\n",
    "from selenium.webdriver.support import expected_conditions as EC\n",
    "# To delay the execution of the program\n",
    "import time\n",
    "import pandas as pd\n",
    "\n",
    "#-------------------------------navigating driver to silver funds webpage--------------------------------------------------\n",
    "\n",
    "try:\n",
    "    driver_path = 'C:\\Program Files\\chromedriver.exe'\n",
    "    driver = webdriver.Chrome(executable_path = driver_path)\n",
    "except:\n",
    "    print(\"Something wrong with the driver path given for web browser\")\n",
    "    \n",
    "try:\n",
    "    # Opening the webpage\n",
    "    driver.get('https://www.morningstar.in/default.aspx')\n",
    "except:\n",
    "    print(\"Webpage address not available\")\n",
    "    \n",
    "try:\n",
    "    # Clicking on Silver to get Silver Funds\n",
    "    silver = WebDriverWait(driver, 20).until(EC.presence_of_element_located((By.XPATH,'//*[@id=\"siteContent\"]/div[3]/div/div/div/div[2]/div/div[1]/div[5]/table/tbody/tr[1]/td[2]/a')))\n",
    "    silver.click()\n",
    "except:\n",
    "    print(\"Link for silver funds not available.\")\n",
    "    \n",
    "#--------------------------------extracting list of silver fund url's-----------------------------------------------------\n",
    "    \n",
    "try:\n",
    "    # Extracting the element with all funds in the webpage\n",
    "    all_funds_page = WebDriverWait(driver, 20).until(\n",
    "            EC.presence_of_element_located((By.XPATH, '//*[@id=\"ctl00_ContentPlaceHolder1_upnlReports\"]/div[2]/div[1]/table/tbody/tr/td/table/tbody/tr[4]/td/div/table/tbody')))\n",
    "except:\n",
    "    print(\"Unable to find path to all silver funds element in the webpage.\")\n",
    "\n",
    "try:\n",
    "    # making a list of all funds\n",
    "    all_funds = all_funds_page.find_elements(By.TAG_NAME,'tr')\n",
    "\n",
    "    fund_links_list = list()\n",
    "    for fund in all_funds:\n",
    "        fund_anchor_tags = fund.find_element(By.TAG_NAME,'a')\n",
    "        fund_link = fund_anchor_tags.get_attribute('href')\n",
    "        fund_links_list.append(fund_link)\n",
    "    print(\"Successfully extracted silver fund url's.\")\n",
    "except:\n",
    "    print(\"Unable to get a list of silver fund url's.\")\n",
    "\n",
    "#--------------------------------extracting fund name and code from each url-------------------------------------------------\n",
    "\n",
    "dict_list = list()\n",
    "\n",
    "try:\n",
    "    for link in fund_links_list:\n",
    "        driver.get(link)\n",
    "\n",
    "        try:\n",
    "             # Extracting fund name and printing it\n",
    "            fund_name = WebDriverWait(driver, 20).until(\n",
    "            EC.presence_of_element_located((By.XPATH,'//*[@id=\"siteContent\"]/div[2]/div/div/div[1]/div/div[2]/div/div/div/div[1]/div/div[1]/h2')))\n",
    "        except: \n",
    "            print(\"Unable to extract fund name.\")\n",
    "\n",
    "        try:\n",
    "            # Extracting fund code and printing it\n",
    "            fund_code = WebDriverWait(driver, 20).until(\n",
    "            EC.presence_of_element_located((By.XPATH,'//*[@id=\"siteContent\"]/div[2]/div/div/div[1]/div/div[2]/div/div/div/div[1]/div/div[1]/span[1]')))\n",
    "        except:\n",
    "            print(\"unable to extract fund code.\")\n",
    "\n",
    "        dict_add = dict(Fund_Name = fund_name.text, Fund_Code = fund_code.text)\n",
    "        dict_list.append(dict_add)\n",
    "    \n",
    "except:\n",
    "    print(\"Something went wrong while extracting fund name and codes from url's.\")\n",
    "    \n",
    "driver.quit()\n",
    "\n",
    "#---------------------------------parsing data to pandas dataframe and saving in excel-------------------------------------------\n",
    "\n",
    "try:\n",
    "    df = pd.DataFrame(dict_list)\n",
    "    df.to_excel('Silver_Funds.xlsx')\n",
    "    print(\"Data Saved Successfully in variable df and excel file Silver_Funds.xlsx\")\n",
    "    \n",
    "except:\n",
    "    print(\"Unable to save data in dataframe.\")\n",
    "    "
   ]
  }
 ],
 "metadata": {
  "kernelspec": {
   "display_name": "Python 3.7.13 (conda)",
   "language": "python",
   "name": "python3"
  },
  "language_info": {
   "codemirror_mode": {
    "name": "ipython",
    "version": 3
   },
   "file_extension": ".py",
   "mimetype": "text/x-python",
   "name": "python",
   "nbconvert_exporter": "python",
   "pygments_lexer": "ipython3",
   "version": "3.7.13"
  },
  "vscode": {
   "interpreter": {
    "hash": "6625e24e7976e76d8f2a703a847dc78743d4557181ca8766ade4a24c7c369521"
   }
  }
 },
 "nbformat": 4,
 "nbformat_minor": 2
}
